{
 "cells": [
  {
   "cell_type": "code",
   "execution_count": 1,
   "id": "fad01262-d379-4482-8855-762e2bef6e9a",
   "metadata": {},
   "outputs": [],
   "source": [
    "from scipy.io import wavfile\n",
    "import numpy as np\n",
    "import IPython.display as ipd\n",
    "import plotly\n",
    "import plotly.offline as pyo \n",
    "import plotly.graph_objs as go\n",
    "import matplotlib.pyplot as plt \n",
    "import librosa\n",
    "import soundfile as sf\n",
    "import pandas as pd \n",
    "import plotly.figure_factory as ff\n",
    "import plotly.graph_objs as go\n",
    "from plotly.subplots import make_subplots\n",
    "from scipy.signal import argrelextrema"
   ]
  },
  {
   "cell_type": "markdown",
   "id": "ad5ba8b6-699d-4b96-9399-3e204aa4f57d",
   "metadata": {},
   "source": [
    "## Funciones"
   ]
  },
  {
   "cell_type": "code",
   "execution_count": 2,
   "id": "92325ee0-7b04-490a-8e94-3de0fb0ac320",
   "metadata": {},
   "outputs": [],
   "source": [
    "#Función para cortar los dataframes, el cambio de ritmo lo vi a ojo, debería hacer algo que detecte automáticamente. \n",
    "def corte(p0, pf, df):\n",
    "  df=df[p0:pf]\n",
    "  return df\n",
    "\n",
    "\n",
    "#Función que me detecta los máximos, es decir, el ataque de cada golpe.\n",
    "def maximos(df, columna, salto, fs, nombre_columna):\n",
    "  max_indices = argrelextrema(df[columna].values, np.greater_equal, order=salto)[0]\n",
    "  max_values = df[columna].iloc[max_indices]\n",
    "  dfmax=pd.DataFrame(max_values)\n",
    "  dfmax[nombre_columna] = dfmax.index / fs\n",
    "  dfmax=dfmax.reset_index()\n",
    "  return dfmax\n",
    "\n",
    "\n",
    "#Función que me pone 0 en todas las amplitudes menos en los máximos donde pone 1.\n",
    "def maximos2(df, columna, salto, fs, nombre_columna, columna_nueva):\n",
    "    \n",
    "    max_indices = argrelextrema(df[columna].values, np.greater_equal, order=salto)[0]\n",
    "\n",
    "    df[columna + '_maximos'] = 0\n",
    " \n",
    "    df.loc[df.index[max_indices], columna + '_maximos'] = 1\n",
    "\n",
    "    dfmax = pd.DataFrame({\n",
    "        columna + '_maximos': df[columna + '_maximos'],\n",
    "        nombre_columna: df.index / fs\n",
    "    })\n",
    "    df[columna_nueva]=df[columna + '_maximos'].cumsum()\n",
    "\n",
    "    return df\n",
    "\n",
    "#Función para calcular la diferencia entre picos\n",
    "def delta(df, columna):\n",
    "    delta=pd.DataFrame(df[columna].diff())\n",
    "    delta=delta.dropna()\n",
    "    delta=delta.reset_index()\n",
    "    return delta\n",
    "#Guardo distancia entre picos metrónomo-tambor, cuando hay más del tambor guardo en \"resto\" el que no uso, cuando hay de menos\n",
    "#guardo el que uso dos veces en \"repetidos\".\n",
    "def procesar_picos(m, t):\n",
    "    if len(t) > len(m):\n",
    "        m['min_diferencia'] = None\n",
    "        m['tiempo_tambor'] = None\n",
    "\n",
    "        for i in range(len(m)):\n",
    "            valor = m.loc[i, 'tiempo_metronomo']\n",
    "\n",
    "            diferencias = t['tiempo_tambor'] - valor\n",
    "            closest_index = (diferencias.abs()).idxmin()\n",
    "            min_dif = diferencias.iloc[closest_index]\n",
    "\n",
    "            m.loc[i, 'min_diferencia'] = min_dif\n",
    "            m.loc[i, 'tiempo_tambor'] = t.loc[closest_index, 'tiempo_tambor']\n",
    "            m.loc[i, 'amplitud_tambor'] = t.loc[closest_index, 'amplitud_tambor']\n",
    "\n",
    "        resto = t[~t['tiempo_tambor'].isin(m['tiempo_tambor'])].copy()\n",
    "\n",
    "        resto['distancia_al_mas_cercano'] = resto['tiempo_tambor'].apply(lambda x: abs(x - m['tiempo_metronomo']).min())\n",
    "\n",
    "        tiempos = pd.concat([m['tiempo_metronomo'], m['tiempo_tambor'], m['min_diferencia'], m['amplitud_tambor']], axis=1)\n",
    "        return tiempos, resto\n",
    "\n",
    "    elif len(t) < len(m):\n",
    "        m['min_diferencia'] = None\n",
    "        m['tiempo_tambor'] = None\n",
    "        t['seleccionado'] = 0\n",
    "\n",
    "        for i in range(len(m)):\n",
    "            valor = m.loc[i, 'tiempo_metronomo']\n",
    "\n",
    "            diferencias = t['tiempo_tambor'] - valor\n",
    "            closest_index = (diferencias.abs()).idxmin()\n",
    "            min_dif = diferencias.iloc[closest_index]\n",
    "\n",
    "            m.loc[i, 'min_diferencia'] = min_dif\n",
    "            m.loc[i, 'tiempo_tambor'] = t.loc[closest_index, 'tiempo_tambor']\n",
    "            m.loc[i, 'amplitud_tambor'] = t.loc[closest_index, 'amplitud_tambor']\n",
    "\n",
    "            t.loc[closest_index, 'seleccionado'] += 1\n",
    "\n",
    "        repetidos = t[t['seleccionado'] > 1].copy()\n",
    "\n",
    "        repetidos['distancia_al_mas_cercano'] = repetidos['tiempo_tambor'].apply(lambda x: abs(x - m['tiempo_metronomo']).min())\n",
    "\n",
    "        t.drop(columns=['seleccionado'], inplace=True)\n",
    "\n",
    "        tiempos = pd.concat([m['tiempo_metronomo'], m['tiempo_tambor'], m['min_diferencia'], m['amplitud_tambor']], axis=1)\n",
    "        return tiempos, repetidos\n",
    "\n",
    "    else:\n",
    "        m['min_diferencia'] = None\n",
    "        m['tiempo_tambor'] = None\n",
    "\n",
    "        for i in range(len(m)):\n",
    "            valor = m.loc[i, 'tiempo_metronomo']\n",
    "\n",
    "            diferencias = t['tiempo_tambor'] - valor\n",
    "            closest_index = (diferencias.abs()).idxmin()\n",
    "            min_dif = diferencias.iloc[closest_index]\n",
    "\n",
    "            m.loc[i, 'min_diferencia'] = min_dif\n",
    "            m.loc[i, 'tiempo_tambor'] = t.loc[closest_index, 'tiempo_tambor']\n",
    "            m.loc[i, 'amplitud_tambor'] = t.loc[closest_index, 'amplitud_tambor']\n",
    "\n",
    "        tiempos = pd.concat([m['tiempo_metronomo'], m['tiempo_tambor'], m['min_diferencia'], m['amplitud_tambor']], axis=1)\n",
    "        return tiempos, None\n",
    "#Función que agrega columna con suma acumulativa de otra.\n",
    "def indice_sumatoria(df, columna, columna_nueva):\n",
    "    df[columna_nueva]=df[columna].cumsum()\n",
    "    return df\n",
    "#Función donde calculo la desviación de un valor medio, no se porque le puse varianza\n",
    "def varianza(df, columna, valor):\n",
    "    df['varianza']=valor-df[columna]\n",
    "    return df"
   ]
  },
  {
   "cell_type": "markdown",
   "id": "4cff49ca-bfeb-42d9-999f-e56019446242",
   "metadata": {},
   "source": [
    "## Audios"
   ]
  },
  {
   "cell_type": "code",
   "execution_count": 3,
   "id": "c2453f8b-8850-4683-9104-197deb69c826",
   "metadata": {},
   "outputs": [
    {
     "data": {
      "text/plain": [
       "1451862"
      ]
     },
     "execution_count": 3,
     "metadata": {},
     "output_type": "execute_result"
    }
   ],
   "source": [
    "#Señales de audio\n",
    "audio_file2 = \"H:/Mi unidad/Análisis de audio/Audio 3/sonido3_2.mp3\"\n",
    "audio_file = \"H:/Mi unidad/Análisis de audio/Audio 3/sonido3_1.mp3\"\n",
    "\n",
    "#Disminuyo la frecuencia de muestreo para que no explote la compu\n",
    "tambor, fst = librosa.load(audio_file, sr=8000)\n",
    "metronomo, fsm = librosa.load(audio_file2, sr=8000)\n",
    "len(metronomo)"
   ]
  },
  {
   "cell_type": "markdown",
   "id": "38a9705a-ce97-461f-bf6d-2bfe3b8a9003",
   "metadata": {},
   "source": [
    "## Código"
   ]
  },
  {
   "cell_type": "code",
   "execution_count": 4,
   "id": "e6cee22f-3e45-4ab0-8db3-4bc3ac0afded",
   "metadata": {},
   "outputs": [],
   "source": [
    "#.describe() de mis datos \n",
    "tambor_ampl = pd.Series(tambor)\n",
    "df_tambor_amplitud=pd.DataFrame(tambor_ampl.describe())\n",
    "metronomo_ampl = pd.Series(metronomo)\n",
    "df_metronomo_amplitud=pd.DataFrame(metronomo_ampl.describe())\n",
    "df_datos=pd.concat([df_tambor_amplitud, df_metronomo_amplitud], axis=1)\n",
    "df_datos.columns = ['ampl-tambor', 'ampl-metronomo']"
   ]
  },
  {
   "cell_type": "code",
   "execution_count": 5,
   "id": "4423636b-010f-49ad-b916-66981ba60c7f",
   "metadata": {},
   "outputs": [],
   "source": [
    "#Agrego una columna con el tiempo en segundos\n",
    "dftambor=pd.DataFrame(tambor)\n",
    "dftambor['tiempo_tambor'] = dftambor.index /fst\n",
    "dftambor.columns = ['amplitud_tambor', 'tiempo_tambor']\n",
    "\n",
    "dfmetronomo=pd.DataFrame(metronomo)\n",
    "dfmetronomo['tiempo_metronomo'] = dfmetronomo.index /fsm\n",
    "dfmetronomo.columns=['amplitud_metronomo', 'tiempo_metronomo']"
   ]
  },
  {
   "cell_type": "code",
   "execution_count": 6,
   "id": "99f6fde3-461e-472c-8b0e-17d2583548a1",
   "metadata": {},
   "outputs": [],
   "source": [
    "#Corte de los dataframes en cuatro partes por los cambios de ritmo del metrónomo.\n",
    "dftambor0=corte(45000, 320000, dftambor) \n",
    "dftambor1=corte(320000, 1400000, dftambor) \n",
    "\n",
    "dfmetronomo0=corte(45000, 320000, dfmetronomo)\n",
    "dfmetronomo1=corte(320000, 1400000, dfmetronomo)\n"
   ]
  },
  {
   "cell_type": "code",
   "execution_count": 7,
   "id": "fcf598c8-fb05-4b54-9e08-f516573dabf1",
   "metadata": {},
   "outputs": [],
   "source": [
    "#Dataframe con los máximos\n",
    "t_0=maximos(dftambor0, 'amplitud_tambor', 3000, fst, 'tiempo_tambor')\n",
    "m_0=maximos(dfmetronomo0, 'amplitud_metronomo', 3000, fsm, 'tiempo_metronomo')\n",
    "t_1=maximos(dftambor1, 'amplitud_tambor', 3000, fst, 'tiempo_tambor')\n",
    "m_1=maximos(dfmetronomo1, 'amplitud_metronomo', 3000, fsm, 'tiempo_metronomo')\n",
    "\n"
   ]
  },
  {
   "cell_type": "code",
   "execution_count": 13,
   "id": "0b54c521-a0b4-4cf6-9bb0-056221b226d7",
   "metadata": {},
   "outputs": [],
   "source": [
    "pd.options.display.max_rows = None\n",
    "#Calculo la diferencia entre picos de cada parte\n",
    "deltatambor0=delta(t_0, 'tiempo_tambor')\n",
    "deltatambor0=varianza(deltatambor0, 'tiempo_tambor', deltametronomo0['tiempo_metronomo'].mean())\n",
    "deltatambor1=delta(t_1, 'tiempo_tambor')\n",
    "deltatambor1=varianza(deltatambor1, 'tiempo_tambor', deltametronomo1['tiempo_metronomo'].mean())\n",
    "\n",
    "deltametronomo0=delta(m_0, 'tiempo_metronomo')\n",
    "deltametronomo1=delta(m_1, 'tiempo_metronomo')"
   ]
  },
  {
   "cell_type": "code",
   "execution_count": 9,
   "id": "82c6d831-c79a-4840-93a9-bb0be00e12fa",
   "metadata": {},
   "outputs": [],
   "source": [
    "#Dataframes donde las amplitudes son 0 excepto en los máximos donde valen 1.\n",
    "t_0g=maximos2(dftambor0, 'amplitud_tambor', 3000, fst, 'tiempo_tambor', 'indice')\n",
    "m_0g=maximos2(dfmetronomo0, 'amplitud_metronomo', 3000, fsm, 'tiempo_metronomo', 'indice')\n",
    "t_1g=maximos2(dftambor1, 'amplitud_tambor', 3000, fst, 'tiempo_tambor', 'indice')\n",
    "m_1g=maximos2(dfmetronomo1, 'amplitud_metronomo', 3000, fsm, 'tiempo_metronomo', 'indice')"
   ]
  },
  {
   "cell_type": "code",
   "execution_count": 10,
   "id": "cd7ca6ad-40ee-49d8-be06-2b9e99f29428",
   "metadata": {},
   "outputs": [],
   "source": [
    "#Concateno los máximos de las cuatro partes del audio.\n",
    "maximos_tambor=pd.concat([t_0, t_1], axis=0)\n",
    "maximos_metronomo=pd.concat([m_0, m_1], axis=0)\n",
    "maximos_tambor_norm=pd.concat([t_0g, t_1g], axis=0)\n",
    "maximos_metronomo_norm=pd.concat([m_0g, m_1g], axis=0)"
   ]
  },
  {
   "cell_type": "code",
   "execution_count": 11,
   "id": "d3abb312-f25f-4a95-81cb-8bb9c46eccf4",
   "metadata": {},
   "outputs": [],
   "source": [
    "tiempos0, _ = procesar_picos(m_0, t_0)\n",
    "tiempos1, _ = procesar_picos(m_1, t_1)"
   ]
  },
  {
   "cell_type": "markdown",
   "id": "d6b5046e-914b-4e79-9d3b-7237d2008af4",
   "metadata": {},
   "source": [
    "## Guardado de dataframes"
   ]
  },
  {
   "cell_type": "code",
   "execution_count": 14,
   "id": "6177b108-b851-4f6b-8d7b-0daf105c3347",
   "metadata": {},
   "outputs": [],
   "source": [
    "#Guardo los dataframes.\n",
    "dftambor.to_csv('H:/Mi unidad/Análisis de audio/Audio 3/dftambor.csv', index=False)\n",
    "dfmetronomo.to_csv('H:/Mi unidad/Análisis de audio/Audio 3/dfmetronomo.csv', index=False)\n",
    "\n",
    "dftambor0.to_csv('H:/Mi unidad/Análisis de audio/Audio 3/dftambor0.csv', index=False)\n",
    "dfmetronomo0.to_csv('H:/Mi unidad/Análisis de audio/Audio 3/dfmetronomo0.csv', index=False)\n",
    "dftambor1.to_csv('H:/Mi unidad/Análisis de audio/Audio 3/dftambor1.csv', index=False)\n",
    "dfmetronomo1.to_csv('H:/Mi unidad/Análisis de audio/Audio 3/dfmetronomo1.csv', index=False)\n",
    "                   \n",
    "tiempos0.to_csv('H:/Mi unidad/Análisis de audio/Audio 3/tiempos0.csv', index=False)\n",
    "tiempos1.to_csv('H:/Mi unidad/Análisis de audio/Audio 3/tiempos1.csv', index=False)\n",
    "\n",
    "t_0.to_csv('H:/Mi unidad/Análisis de audio/Audio 3/t_0.csv', index=False)\n",
    "t_1.to_csv('H:/Mi unidad/Análisis de audio/Audio 3/t_1.csv', index=False)\n",
    "m_0.to_csv('H:/Mi unidad/Análisis de audio/Audio 3/m_0.csv', index=False)\n",
    "m_1.to_csv('H:/Mi unidad/Análisis de audio/Audio 3/m_1.csv', index=False)\n",
    "\n",
    "t_0g.to_csv('H:/Mi unidad/Análisis de audio/Audio 3/t_0g.csv', index=False)\n",
    "t_1g.to_csv('H:/Mi unidad/Análisis de audio/Audio 3/t_1g.csv', index=False)\n",
    "m_0g.to_csv('H:/Mi unidad/Análisis de audio/Audio 3/m_0g.csv', index=False)\n",
    "m_1g.to_csv('H:/Mi unidad/Análisis de audio/Audio 3/m_1g.csv', index=False)\n",
    "\n",
    "maximos_tambor.to_csv('H:/Mi unidad/Análisis de audio/Audio 3/maximos_tambor.csv', index=False)\n",
    "maximos_metronomo.to_csv('H:/Mi unidad/Análisis de audio/Audio 3/maximos_metronomo.csv', index=False)\n",
    "maximos_tambor_norm.to_csv('H:/Mi unidad/Análisis de audio/Audio 3/maximos_tambor_norm.csv', index=False)\n",
    "maximos_metronomo_norm.to_csv('H:/Mi unidad/Análisis de audio/Audio 3/maximos_metronomo_norm.csv', index=False)\n",
    "\n",
    "deltatambor0.to_csv('H:/Mi unidad/Análisis de audio/Audio 3/deltatambor0.csv', index=False)\n",
    "deltatambor1.to_csv('H:/Mi unidad/Análisis de audio/Audio 3/deltatambor1.csv', index=False)\n",
    "deltametronomo0.to_csv('H:/Mi unidad/Análisis de audio/Audio 3/deltametronomo0.csv', index=False)\n",
    "deltametronomo1.to_csv('H:/Mi unidad/Análisis de audio/Audio 3/deltametronomo1.csv', index=False)"
   ]
  },
  {
   "cell_type": "code",
   "execution_count": null,
   "id": "9bf19c60-c52d-450b-ab90-395da24c583c",
   "metadata": {},
   "outputs": [],
   "source": []
  }
 ],
 "metadata": {
  "kernelspec": {
   "display_name": "Python 3 (ipykernel)",
   "language": "python",
   "name": "python3"
  },
  "language_info": {
   "codemirror_mode": {
    "name": "ipython",
    "version": 3
   },
   "file_extension": ".py",
   "mimetype": "text/x-python",
   "name": "python",
   "nbconvert_exporter": "python",
   "pygments_lexer": "ipython3",
   "version": "3.12.3"
  }
 },
 "nbformat": 4,
 "nbformat_minor": 5
}
